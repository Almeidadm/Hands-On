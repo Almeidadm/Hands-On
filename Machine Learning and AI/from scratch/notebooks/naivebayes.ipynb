{
 "cells": [
  {
   "cell_type": "markdown",
   "metadata": {},
   "source": [
    "# Naive Bayes Algorithm\n",
    "Diego de Almeida Miranda\n",
    "\n",
    "2023 July "
   ]
  },
  {
   "cell_type": "markdown",
   "metadata": {},
   "source": [
    "## The naive Bayes probabilistic model"
   ]
  },
  {
   "cell_type": "markdown",
   "metadata": {},
   "source": [
    "\n",
    "The Naive Bayes Classifier are based on the Bayes theorem, that can be writed as\n",
    "\n",
    "\n",
    "$P(y|X) = \\frac{P(y)P(X|y)}{P(X)}$\n",
    "\n",
    "\n",
    "where we can define the likelihood of the $y$ occur given $X$ events/attributes. The model have some naive assumptions of the data, where the features are independenets from each other, then all features have the same impact in the target $y$. We can re-write the theorem as\n",
    "\n",
    "\n",
    "$posterior = \\frac{prior\\times likelihood}{evidence}$\n",
    "\n",
    "\n",
    "Our evidences are defined by the set of features  $X = (x_1, x_2, ...,x_n)$, what give us\n",
    "\n",
    "\n",
    "$P(y|x_1, x_2, ...,x_n) = \\frac{P(y)P(x_1, x_2, ..., x_n|y)}{P(x_1, x_2, ..., x_n)}$\n",
    "\n",
    "\n",
    "In pratice we are only interested in the numerator of that fraction, since the denominator does not depend on $y$ and the values of the feature $x_i$ are given, so the denominator is effectively constant. The numerator is equivalent to the joint probability model:\n",
    "\n",
    "\n",
    "$P(y, x_1, x_2, ..., x_n)$\n",
    "\n",
    "\n",
    "So, using repeated applications of definition of conditional probability:\n",
    "\n",
    "$P(y, x_1, x_2, x_3, ..., x_n) = P(y)P(x_1, x_2, x_3, ..., x_n|y)$\n",
    "\n",
    "$P(y, x_1, x_2, x_3, ..., x_n) = P(y)P(x_1|y)P(x_2, x_3, ..., x_n|y, x_1)$\n",
    "\n",
    "$P(y, x_1, x_2, x_3, ..., x_n) = P(y)P(x_1|y)P(x_2|y, x_1)P(x_2, x_3, ..., x_n|y, x_1, x_2)$\n",
    "\n",
    "$...$\n",
    "\n",
    "$P(y, x_1, x_2, x_3, ..., x_n) = P(y)P(x_1|y)P(x_2|y, x_1)P(x_3|y, x_1, x_2)...P(x_n|y, x_1, x_2, x_3, ..., x_{n-1})$\n",
    "\n",
    "Assuming that each feature $x_i$ is conditionally independent of every other feature $x_j$ for $i\\neq j$, this means\n",
    "\n",
    "$P(x_i|y, x_j) = P(x_i|y)$\n",
    "\n",
    "So the joint model can be expressed as \n",
    "\n",
    "$P(y, x_1, x_2, ..., x_n) = P(y)P(x_1|y)P(x_2|y)...P(x_n|y)$\n",
    "\n",
    "$P(y, x_1, x_2, ..., x_n) = P(y) \\Pi_{i=1}^nP(x_i|y)$\n",
    "\n",
    "So the conditional distribution over the class variable $y$ can be expressed like this:\n",
    "\n",
    "$P(y|x_1, x_2, ..., x_n) = \\frac{1}{Z}P(y)\\Pi_{i=1}^nP(x_i|y)$\n",
    "\n",
    "Where $Z$ a constant if the values of the feature variables are known and can be ignored in this case.\n",
    "\n",
    "With math tricks we say that \n",
    "\n",
    "$P(y|x_1, x_2, ..., x_n) = \\log P(y) \\Sigma_{i=1}^n\\log P(x_i|y)$\n",
    "\n",
    "\n",
    "\n",
    "\n"
   ]
  },
  {
   "cell_type": "markdown",
   "metadata": {},
   "source": [
    "## Parameter Estimation"
   ]
  },
  {
   "cell_type": "markdown",
   "metadata": {},
   "source": [
    "To estimate the parameters for a feature's distribution, one must assume a distribution or generate nonparametric models for the features from the training set. f one is dealing with continuous data, a typical assumption is that the continuous values associated with each class are distributed according to a Gaussian distribution.\n",
    "\n",
    "For example, suppose the training data contains a continuous attribute, $x_i$. We first segment the data by the class, and then compute the mean and variance of $x_i$ in each class. Let $\\mu_y$ be the mean of the values in $x_i$ associated with class $y$, and let $\\sigma_y^2$ be the variance of the values in associated with class $x_i$. Then, the probability of some value\n",
    "given a class, $P(x_i|y)$, can be computed by plugging $x_i$ into the equation for a Gaussian distribution parameterized by $\\mu_y$ and $\\sigma_y^2$. That is\n",
    "\n",
    "$P(x_i|y) = \\frac{1}{\\sqrt{2\\pi\\sigma^2_y}}\\times exp(-\\frac{(x_i-\\mu_y)^2}{2\\sigma^2_y})$\n",
    "\n"
   ]
  },
  {
   "cell_type": "markdown",
   "metadata": {},
   "source": [
    "The Gaussian distribution can be implemented as following"
   ]
  },
  {
   "cell_type": "code",
   "execution_count": null,
   "metadata": {},
   "outputs": [],
   "source": [
    "import numpy as np\n",
    "\n",
    "def guassian_pdf(self, x, mean, var):\n",
    "        numerator = np.exp(-((x - mean) ** 2) / (2 * var))\n",
    "        denominator = np.sqrt(2 * np.pi * var)\n",
    "        return numerator/denominator"
   ]
  },
  {
   "cell_type": "markdown",
   "metadata": {},
   "source": [
    "## Implementation\n",
    "\n"
   ]
  },
  {
   "cell_type": "markdown",
   "metadata": {},
   "source": [
    "##### Train\n",
    "-   We segment the data by the class, and then compute the mean and variance of $x_i$ in each class.\n",
    "\n",
    "##### Prediction\n",
    "-   Calculate the posterior likelihood for each class using the Gaussian distribution\n",
    "-   Chose the class with most probable, using the _maximum a posteriori_ decision rule"
   ]
  },
  {
   "cell_type": "markdown",
   "metadata": {},
   "source": [
    "#### Implementation"
   ]
  },
  {
   "cell_type": "code",
   "execution_count": 3,
   "metadata": {},
   "outputs": [],
   "source": [
    "import numpy as np\n",
    "\n",
    "class NaiveBayes:\n",
    "\n",
    "    def fit(self, X, y):\n",
    "        n_samples, n_features = X.shape\n",
    "        self._classes = np.unique(y)\n",
    "        n_classes = len(self._classes)\n",
    "\n",
    "        self._mean = np.zeros((n_classes, n_features), dtype=np.float64)\n",
    "        self._var = np.zeros((n_classes, n_features), dtype=np.float64)\n",
    "        self._priors = np.zeros(n_classes, dtype=np.float64)\n",
    "\n",
    "        for idx, c in enumerate(self._classes):\n",
    "            X_c = X[y==c]\n",
    "            self._mean[idx, :] = X_c.mean(axis=0)\n",
    "            self._var[idx, :] = X_c.var(axis=0)\n",
    "            self._priors[idx] = X_c.shape[0] / float(n_samples)\n",
    "\n",
    "\n",
    "    def predict(self, X):\n",
    "        y_pred = [self._predict(x) for x in X]\n",
    "        return np.array(y_pred)\n",
    "    \n",
    "    def _predict(self, x):\n",
    "        posteriors = []\n",
    "\n",
    "        for idx, c in enumerate(self._classes):\n",
    "            prior = np.log(self._priors[idx])\n",
    "            posterior = np.sum(np.log(self._pdf(idx, x)))\n",
    "            posterior = posterior + prior\n",
    "            posteriors.append(posterior)\n",
    "        \n",
    "        return  self._classes[np.argmax(posteriors)]\n",
    "\n",
    "    # probability dense function\n",
    "    def _pdf(self, idx, x):\n",
    "        mean = self._mean[idx]\n",
    "        var = self._var[idx]\n",
    "        numerator = np.exp(-((x - mean) ** 2) / (2 * var))\n",
    "        denominator = np.sqrt(2 * np.pi * var)\n",
    "\n",
    "        return numerator / denominator"
   ]
  }
 ],
 "metadata": {
  "kernelspec": {
   "display_name": ".venv",
   "language": "python",
   "name": "python3"
  },
  "language_info": {
   "codemirror_mode": {
    "name": "ipython",
    "version": 3
   },
   "file_extension": ".py",
   "mimetype": "text/x-python",
   "name": "python",
   "nbconvert_exporter": "python",
   "pygments_lexer": "ipython3",
   "version": "3.10.6"
  },
  "orig_nbformat": 4
 },
 "nbformat": 4,
 "nbformat_minor": 2
}
