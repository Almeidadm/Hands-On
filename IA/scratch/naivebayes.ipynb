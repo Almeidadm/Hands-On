{
 "cells": [
  {
   "cell_type": "markdown",
   "metadata": {},
   "source": [
    "# Algoritmo de Naive Bayes\n",
    "Implementação e comentários"
   ]
  },
  {
   "cell_type": "markdown",
   "metadata": {},
   "source": [
    "### Implementação"
   ]
  },
  {
   "cell_type": "markdown",
   "metadata": {},
   "source": [
    "#### Etapas\n",
    "\n"
   ]
  },
  {
   "cell_type": "markdown",
   "metadata": {},
   "source": [
    "##### Treino\n",
    "-   calcular média, variância e frequencia (prior) para cada classe\n",
    "\n",
    "##### Predição\n",
    "-   calcular a probabilidade posterior pra cada classe a distribuição Gaussiana e a função alvo\n",
    "$$y = argmax_y \\log(P(x_1|y))+ \\log(P(x_3|y))+...+ \\log(P(x_n|y))+ \\log(P(y))$$\n",
    "-   escolhe a classe com maior probabilidade posterior"
   ]
  },
  {
   "cell_type": "markdown",
   "metadata": {},
   "source": [
    "#### Código"
   ]
  },
  {
   "cell_type": "code",
   "execution_count": 2,
   "metadata": {},
   "outputs": [],
   "source": [
    "from sklearn.model_selection import train_test_split\n",
    "from sklearn import datasets\n",
    "import numpy as np\n",
    "\n",
    "def accuracy(y_true, y_pred):\n",
    "    accuracy = np.sum(y_true == y_pred) / len(y_true)\n",
    "    return accuracy\n"
   ]
  },
  {
   "cell_type": "code",
   "execution_count": 11,
   "metadata": {},
   "outputs": [],
   "source": [
    "class NaiveBayes:\n",
    "\n",
    "    def fit(self, X, y):\n",
    "        n_samples, n_features = X.shape\n",
    "        self._classes = np.unique(y)\n",
    "        n_classes = len(self._classes)\n",
    "\n",
    "        self._mean = np.zeros((n_classes, n_features), dtype=np.float64)\n",
    "        self._var = np.zeros((n_classes, n_features), dtype=np.float64)\n",
    "        self._priors = np.zeros(n_classes, dtype=np.float64)\n",
    "\n",
    "        for idx, c in enumerate(self._classes):\n",
    "            X_c = X[y==c]\n",
    "            self._mean[idx, :] = X_c.mean(axis=0)\n",
    "            self._var[idx, :] = X_c.var(axis=0)\n",
    "            self._priors[idx] = X_c.shape[0] / float(n_samples)\n",
    "\n",
    "\n",
    "    def predict(self, X):\n",
    "        y_pred = [self._predict(x) for x in X]\n",
    "        return np.array(y_pred)\n",
    "    \n",
    "    def _predict(self, x):\n",
    "        posteriors = []\n",
    "\n",
    "        for idx, c in enumerate(self._classes):\n",
    "            prior = np.log(self._priors[idx])\n",
    "            posterior = np.sum(np.log(self._pdf(idx, x)))\n",
    "            posterior = posterior + prior\n",
    "            posteriors.append(posterior)\n",
    "        \n",
    "        return  self._classes[np.argmax(posteriors)]\n",
    "\n",
    "    def _pdf(self, idx, x):\n",
    "        mean = self._mean[idx]\n",
    "        var = self._var[idx]\n",
    "        numerator = np.exp(-((x - mean) ** 2) / (2 * var))\n",
    "        denominator = np.sqrt(2 * np.pi * var)\n",
    "\n",
    "        return numerator / denominator"
   ]
  },
  {
   "cell_type": "code",
   "execution_count": 5,
   "metadata": {},
   "outputs": [],
   "source": [
    "X, y = datasets.make_classification(\n",
    "    n_samples=1000, n_features=10, n_classes=2, random_state=123\n",
    ")\n",
    "\n",
    "X_train, X_test, y_train, y_test = train_test_split(\n",
    "    X, y, test_size=0.2, random_state=123\n",
    ")"
   ]
  },
  {
   "cell_type": "code",
   "execution_count": 12,
   "metadata": {},
   "outputs": [
    {
     "name": "stdout",
     "output_type": "stream",
     "text": [
      "Accuracy: 0.965\n"
     ]
    }
   ],
   "source": [
    "nb = NaiveBayes()\n",
    "nb.fit(X_train, y_train)\n",
    "prediction = nb.predict(X_test)\n",
    "acc = accuracy(y_test, prediction)\n",
    "print(f\"Accuracy: {acc}\")"
   ]
  },
  {
   "cell_type": "markdown",
   "metadata": {},
   "source": [
    "### Base teórica matemática"
   ]
  },
  {
   "cell_type": "markdown",
   "metadata": {},
   "source": [
    "Probabilidade conjunta: é a probabilidade de 2 eventos A e B ocorrerem\n",
    "- $P(A)$: Probabilidade de ocorrer o evento A\n",
    "- $P(B)$: Probabilidade de ocorrer o evento B\n",
    "- $P(A, B)$: Probabilidade de A e B ocorrerem\n",
    "- $P(A, B) = P(A)\\times P(B)$: Probabilidade de A e B ocorrerem\n",
    "- $P(A|B)$: Probabilidade do evento A acontecer dado o evento B ocorrido\n",
    "\n",
    "O Teorema de Bayes nos diz que\n",
    "$$P(A|B) = \\frac{P(B|A)\\times P(A)}{P(B)}$$\n",
    "\n",
    "Dessa forma, seja \n",
    "- $X = (x_1, x_2,..., x_n)$ nosso vetor de features\n",
    "- $y$ nosso _target_\n",
    "\n",
    "Podemos traduzir o teorema para\n",
    "$$P(y|X) = \\frac{P(X|y)\\times P(y)}{P(X)} = \\frac{P(x_1|y)\\times P(x_2|y) \\times ...\\times P(x_n|y)\\times P(y)}{P(X)}$$\n",
    "\n",
    "Quando temos um conjunto de classes $Y_i$ onde $i=1,2,...,k$, então podemos dizer que\n",
    "$$P(Y_i|X) = \\frac{P(x_1|Y_i)\\times P(x_2|Y_i) \\times ...\\times P(x_n|Y_i)\\times P(Y_i)}{P(X)}, i=1,2,3,...,k$$\n",
    "Portanto nossa classificação pode ser feita através de qual classe $y \\in Y$ nosso evento X pertece através da maior probabilidade de ocorrência\n",
    "$$y = argmax_yP(y|X) = \\frac{P(x_1|y)\\times P(x_2|y) \\times ...\\times P(x_n|y)\\times P(y)}{P(X)}$$\n"
   ]
  },
  {
   "cell_type": "markdown",
   "metadata": {},
   "source": [
    "Podemos dizer que\n",
    "$$y = argmax_y P(x_1|y)\\times P(x_2|y)\\times...\\times P(x_n|y)\\times P(y)$$\n",
    "$$y = argmax_y \\log(P(x_1|y))+ \\log(P(x_3|y))+...+ \\log(P(x_n|y))+ \\log(P(y)) $$"
   ]
  },
  {
   "cell_type": "markdown",
   "metadata": {},
   "source": [
    "Também são úteis as seguintes definições \n",
    "- $P(y)$: Probabilidade a priori\n",
    "- $P(x_i|y)$: Probabilidade condicional de ser a classe\n",
    "- $\\mu$: média da classe y\n",
    "- $\\sigma^2$: variância da classe y\n",
    "\n",
    "O cálculo $P(x_i|y)$ será feito com a distribuição Gaussiana, oque nos leva a\n",
    "$$P(x_i|y) = \\frac{1}{\\sqrt{2\\pi\\sigma^2_y}}\\times exp(-\\frac{(x_i-\\mu_y)^2}{2\\sigma^2_y})$$"
   ]
  }
 ],
 "metadata": {
  "kernelspec": {
   "display_name": ".venv",
   "language": "python",
   "name": "python3"
  },
  "language_info": {
   "codemirror_mode": {
    "name": "ipython",
    "version": 3
   },
   "file_extension": ".py",
   "mimetype": "text/x-python",
   "name": "python",
   "nbconvert_exporter": "python",
   "pygments_lexer": "ipython3",
   "version": "3.10.6"
  },
  "orig_nbformat": 4
 },
 "nbformat": 4,
 "nbformat_minor": 2
}
